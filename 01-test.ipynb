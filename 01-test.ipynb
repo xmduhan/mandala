{
 "cells": [
  {
   "cell_type": "code",
   "execution_count": 1,
   "metadata": {},
   "outputs": [],
   "source": [
    "import dataset\n",
    "from treelib import Node, Tree\n",
    "from pandas import DataFrame\n",
    "db = dataset.connect('sqlite:///db.sqlite')\n",
    "table = db['relation']"
   ]
  },
  {
   "cell_type": "code",
   "execution_count": 2,
   "metadata": {},
   "outputs": [
    {
     "data": {
      "text/plain": [
       "True"
      ]
     },
     "execution_count": 2,
     "metadata": {},
     "output_type": "execute_result"
    }
   ],
   "source": [
    "table.delete()"
   ]
  },
  {
   "cell_type": "code",
   "execution_count": 56,
   "metadata": {},
   "outputs": [],
   "source": [
    "w0 = '1'\n",
    "qs = db.query('select w0, w1, count(*) n from relation group by w0, w1')\n",
    "df = DataFrame(list(qs))\n",
    "tree = Tree()\n",
    "tree.create_node(w0, w0)\n",
    "appendList = []"
   ]
  },
  {
   "cell_type": "code",
   "execution_count": 57,
   "metadata": {},
   "outputs": [
    {
     "name": "stdout",
     "output_type": "stream",
     "text": [
      "1 --> 2\n",
      "2 --> 3\n",
      "3 --> 4\n",
      "4 --> 5\n",
      "5 --> 6\n"
     ]
    }
   ],
   "source": [
    "def append(w0, level=5):\n",
    "    if w0 in appendList or level == 0:\n",
    "        return\n",
    "    appendList.append(w0)\n",
    "    for i, row in df[df['w0'] == w0].iterrows():\n",
    "        w1 = row['w1']\n",
    "        n = row['n']\n",
    "        print w0, '-->', w1       \n",
    "        if w1 not in tree:\n",
    "            title = '%s[%d]' % (w1, n)\n",
    "            tree.create_node(title, w1, parent=w0)    \n",
    "        else: \n",
    "            title = '%s[%d](*)' % (w1, n)\n",
    "            tree.create_node(title, i, parent=w0)\n",
    "        append(w1, level-1)     \n",
    "append('1')"
   ]
  },
  {
   "cell_type": "code",
   "execution_count": 58,
   "metadata": {},
   "outputs": [
    {
     "name": "stdout",
     "output_type": "stream",
     "text": [
      "1\n",
      "└── 2[1]\n",
      "    └── 3[1]\n",
      "        └── 4[1]\n",
      "            └── 5[1]\n",
      "                └── 6[1]\n",
      "\n"
     ]
    }
   ],
   "source": [
    "tree.show()"
   ]
  }
 ],
 "metadata": {
  "kernelspec": {
   "display_name": "Python 2",
   "language": "python",
   "name": "python2"
  },
  "language_info": {
   "codemirror_mode": {
    "name": "ipython",
    "version": 2
   },
   "file_extension": ".py",
   "mimetype": "text/x-python",
   "name": "python",
   "nbconvert_exporter": "python",
   "pygments_lexer": "ipython2",
   "version": "2.7.12"
  }
 },
 "nbformat": 4,
 "nbformat_minor": 2
}
